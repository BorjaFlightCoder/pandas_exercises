{
 "cells": [
  {
   "cell_type": "code",
   "execution_count": 6,
   "id": "7971b447-ea4c-483e-837f-f1039faf010c",
   "metadata": {},
   "outputs": [],
   "source": [
    "%config IPCompleter.use_jedi=False"
   ]
  },
  {
   "cell_type": "code",
   "execution_count": 1,
   "id": "ad4805e7-16a4-40ef-a51d-6675aeff5cb0",
   "metadata": {},
   "outputs": [],
   "source": [
    "import pandas as pd"
   ]
  },
  {
   "cell_type": "code",
   "execution_count": null,
   "id": "f1efffc3-f5a1-496c-ae2a-21d46d67d86d",
   "metadata": {},
   "outputs": [],
   "source": [
    "pd.rcs"
   ]
  },
  {
   "cell_type": "code",
   "execution_count": 2,
   "id": "ede01198-9d1e-417f-9f04-b00b78498406",
   "metadata": {},
   "outputs": [],
   "source": [
    "from jedi import settings"
   ]
  },
  {
   "cell_type": "code",
   "execution_count": 4,
   "id": "378eb134-1fe7-4f2c-bca3-b8feb3e58cfc",
   "metadata": {},
   "outputs": [],
   "source": [
    "settings.add_bracket_after_function = True"
   ]
  },
  {
   "cell_type": "code",
   "execution_count": 5,
   "id": "84404f5c-a6d5-4f3d-9b3d-769ec0a43e69",
   "metadata": {},
   "outputs": [
    {
     "data": {
      "text/plain": [
       "False"
      ]
     },
     "execution_count": 5,
     "metadata": {},
     "output_type": "execute_result"
    }
   ],
   "source": [
    "settings.case_insensitive_completion"
   ]
  },
  {
   "cell_type": "code",
   "execution_count": 6,
   "id": "31e41f56-6e93-47b9-843e-853671c2ca9c",
   "metadata": {},
   "outputs": [],
   "source": [
    "settings.case_insensitive_completion = True"
   ]
  },
  {
   "cell_type": "code",
   "execution_count": 8,
   "id": "7a405655-b367-4a33-9269-cc53d9d5aca1",
   "metadata": {},
   "outputs": [],
   "source": [
    "settings.case_insensitive_completion = False"
   ]
  },
  {
   "cell_type": "code",
   "execution_count": null,
   "id": "1378f3f4-eae0-408c-bc70-e3d91df75e03",
   "metadata": {},
   "outputs": [],
   "source": []
  },
  {
   "cell_type": "code",
   "execution_count": null,
   "id": "aeb12d4e-7193-473c-be51-98ee9e191ee6",
   "metadata": {},
   "outputs": [],
   "source": []
  },
  {
   "cell_type": "code",
   "execution_count": null,
   "id": "13edff47-aa20-431e-aeb6-29a9c1453d73",
   "metadata": {},
   "outputs": [],
   "source": [
    "pd.concat"
   ]
  }
 ],
 "metadata": {
  "kernelspec": {
   "display_name": "Python 3 (ipykernel)",
   "language": "python",
   "name": "python3"
  },
  "language_info": {
   "codemirror_mode": {
    "name": "ipython",
    "version": 3
   },
   "file_extension": ".py",
   "mimetype": "text/x-python",
   "name": "python",
   "nbconvert_exporter": "python",
   "pygments_lexer": "ipython3",
   "version": "3.9.10"
  }
 },
 "nbformat": 4,
 "nbformat_minor": 5
}
