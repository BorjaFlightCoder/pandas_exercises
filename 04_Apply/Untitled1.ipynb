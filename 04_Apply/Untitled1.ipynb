{
 "cells": [
  {
   "cell_type": "markdown",
   "id": "35e60cd4-82e0-4535-8767-476b5e736f78",
   "metadata": {},
   "source": [
    "# Slice `loc[]` from starting_column to end_column"
   ]
  },
  {
   "cell_type": "markdown",
   "id": "07f8163d-33e8-4ba1-bd0a-0b8d8160e4e5",
   "metadata": {},
   "source": [
    "- si hay algo facil que simplifique el codigo, es probable que se haya desarrollado"
   ]
  },
  {
   "cell_type": "markdown",
   "id": "89ccbd17-5d90-402b-870b-db985530826f",
   "metadata": {},
   "source": [
    "## iloc"
   ]
  },
  {
   "cell_type": "code",
   "execution_count": null,
   "id": "16207027-1ba7-4aec-8504-cfe323194c82",
   "metadata": {},
   "outputs": [],
   "source": []
  },
  {
   "cell_type": "markdown",
   "id": "29d3f81a-6445-405a-a578-d8505f533ca2",
   "metadata": {},
   "source": [
    "## loc"
   ]
  },
  {
   "cell_type": "code",
   "execution_count": null,
   "id": "1d40607e-1c9d-4999-9bb9-5ede63e146a7",
   "metadata": {},
   "outputs": [],
   "source": []
  },
  {
   "cell_type": "markdown",
   "id": "660f6e1e-2366-4709-b302-063f514a354a",
   "metadata": {},
   "source": [
    "# Change legend labels"
   ]
  },
  {
   "cell_type": "code",
   "execution_count": null,
   "id": "54439828-5383-4635-bbb7-9bf0ef8e20e9",
   "metadata": {},
   "outputs": [],
   "source": []
  },
  {
   "cell_type": "markdown",
   "id": "6605afb9-572d-4102-a0ba-2fe1849a633c",
   "metadata": {},
   "source": [
    "# `apply()` vs `applymap()`"
   ]
  },
  {
   "cell_type": "code",
   "execution_count": null,
   "id": "de938a2b-af17-4dec-a1e8-947b6972b29e",
   "metadata": {},
   "outputs": [],
   "source": []
  },
  {
   "cell_type": "markdown",
   "id": "b57b338c-05a2-4a0d-a0ae-9bcc5e1a69cb",
   "metadata": {},
   "source": [
    "# lambda vs .str\n",
    "\n",
    "- ser curiosos\n",
    "- no resultados\n",
    "- 1 ejercicio, 10 conceptos\n",
    "- probad cosas nuevas, si crees que son mejores\n",
    "- sino aprender varios conceptos y aprender cositas\n",
    "- \"Claro pero como lo pone el ejercicio\""
   ]
  },
  {
   "cell_type": "code",
   "execution_count": null,
   "id": "5ffd2b98-6c45-490e-9a7e-80e89e96e46d",
   "metadata": {},
   "outputs": [],
   "source": []
  },
  {
   "cell_type": "markdown",
   "id": "d443c93d-84d7-4289-a970-3ddf0711dd1c",
   "metadata": {},
   "source": [
    "# RAS numpy.datetime64 vs pd.to_datetime"
   ]
  },
  {
   "cell_type": "code",
   "execution_count": null,
   "id": "6bc9fdc5-df02-46fc-a7fa-d3b7f71ca39d",
   "metadata": {},
   "outputs": [],
   "source": []
  },
  {
   "cell_type": "markdown",
   "id": "d71818c5-b8fe-40e6-a8f0-4189967114a8",
   "metadata": {},
   "source": [
    "# Last Business Month muy dificil\n",
    "\n",
    "> google si crees que habria una sola funcion"
   ]
  },
  {
   "cell_type": "code",
   "execution_count": null,
   "id": "7eb40a9d-481e-4502-b8f7-ba143048e3e4",
   "metadata": {},
   "outputs": [],
   "source": []
  }
 ],
 "metadata": {
  "kernelspec": {
   "display_name": "Python 3 (ipykernel)",
   "language": "python",
   "name": "python3"
  },
  "language_info": {
   "codemirror_mode": {
    "name": "ipython",
    "version": 3
   },
   "file_extension": ".py",
   "mimetype": "text/x-python",
   "name": "python",
   "nbconvert_exporter": "python",
   "pygments_lexer": "ipython3",
   "version": "3.9.10"
  }
 },
 "nbformat": 4,
 "nbformat_minor": 5
}
